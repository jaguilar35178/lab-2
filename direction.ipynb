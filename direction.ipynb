{
 "cells": [
  {
   "cell_type": "markdown",
   "metadata": {},
   "source": [
    "1st user story\n",
    "- short bio\n",
    "- education history\n",
    "- Job experiance\n",
    "- any goals\n",
    "\n",
    "- two truths one lie\n",
    "  - lie: im my dad's favorite child\n",
    "  - 2 truths: I am a skiller landscaper and I'm always in a good mood\n",
    "\n",
    "- 5 yes or no questions \n",
    " - Is Timetravel possible?\n",
    " - Do you belive in god?\n",
    " - Do you belive in ghost?\n",
    " - Do you belive in witchcraft?\n",
    " - Can steriods decrease your year to live.\n",
    "\n",
    "\n",
    "\n",
    "2nd User Story\n",
    "- ask the user name throught a prompt\n",
    "- use users name in a greeting\n",
    "- display the name back to the, in our final message.\n",
    "\n",
    "Syntax\n",
    "- js file must have used stricted line.\n",
    "- css file and JS to external \n",
    "\n"
   ]
  }
 ],
 "metadata": {
  "language_info": {
   "name": "python"
  }
 },
 "nbformat": 4,
 "nbformat_minor": 2
}
